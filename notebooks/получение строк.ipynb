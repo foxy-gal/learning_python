{
 "cells": [
  {
   "cell_type": "markdown",
   "metadata": {},
   "source": [
    "## Получение строки (не просто написание)\n",
    "Есть какие-то переменные. С ними происходят действия.\n",
    "На выходе нужно получить строчку (не зная, что будет в результате в переменных)"
   ]
  },
  {
   "cell_type": "markdown",
   "metadata": {},
   "source": [
    "### Способ 1\n",
    "использовать %s "
   ]
  },
  {
   "cell_type": "code",
   "execution_count": 16,
   "metadata": {},
   "outputs": [
    {
     "name": "stdout",
     "output_type": "stream",
     "text": [
      "Firstly, u say hello, secondly u say 10\n"
     ]
    }
   ],
   "source": [
    "a = 'hello'\n",
    "b = \"goodbye\"\n",
    "c = 10\n",
    "print(\"Firstly, u say %s, secondly u say %s\" % (a,c))"
   ]
  },
  {
   "cell_type": "code",
   "execution_count": 2,
   "metadata": {},
   "outputs": [
    {
     "name": "stdout",
     "output_type": "stream",
     "text": [
      "firstly, u say goodbye, after all, u say hello\n"
     ]
    }
   ],
   "source": [
    "print('firstly, u say %s, after all, u say %s'% (b,a))"
   ]
  },
  {
   "cell_type": "code",
   "execution_count": 6,
   "metadata": {},
   "outputs": [
    {
     "name": "stdout",
     "output_type": "stream",
     "text": [
      "firstly, u say, after all, u say hello\n"
     ]
    }
   ],
   "source": [
    "print('firstly, u say, after all, u say %s'% a)"
   ]
  },
  {
   "cell_type": "code",
   "execution_count": 20,
   "metadata": {},
   "outputs": [
    {
     "name": "stdout",
     "output_type": "stream",
     "text": [
      "firstly, u say hello, after all, u say 10\n"
     ]
    }
   ],
   "source": [
    "print('firstly, u say %s, after all, u say %s'% (a, c))"
   ]
  },
  {
   "cell_type": "markdown",
   "metadata": {},
   "source": [
    "### Способ 2\n",
    "использовать метод .format"
   ]
  },
  {
   "cell_type": "code",
   "execution_count": 21,
   "metadata": {},
   "outputs": [
    {
     "name": "stdout",
     "output_type": "stream",
     "text": [
      "Firstly, u say hello, secondly u say 10\n"
     ]
    }
   ],
   "source": [
    "a = 'hello'\n",
    "b = \"goodbye\"\n",
    "c = 10\n",
    "print(\"Firstly, u say {}, secondly u say {}\" .format(a,c))"
   ]
  },
  {
   "cell_type": "code",
   "execution_count": 22,
   "metadata": {},
   "outputs": [
    {
     "name": "stdout",
     "output_type": "stream",
     "text": [
      "Firstly, u say 10, secondly u say hello\n"
     ]
    }
   ],
   "source": [
    "a = 'hello'\n",
    "b = \"goodbye\"\n",
    "c = 10\n",
    "print(\"Firstly, u say {1}, secondly u say {0}\" .format(a,c))"
   ]
  },
  {
   "cell_type": "code",
   "execution_count": 23,
   "metadata": {},
   "outputs": [
    {
     "name": "stdout",
     "output_type": "stream",
     "text": [
      "Firstly, u say hello, secondly u say 10\n"
     ]
    }
   ],
   "source": [
    "a = 'hello'\n",
    "b = \"goodbye\"\n",
    "c = 10\n",
    "print(\"Firstly, u say {1}, secondly u say {0}\" .format(c,a))"
   ]
  },
  {
   "cell_type": "markdown",
   "metadata": {},
   "source": [
    "### Способ 3\n",
    "стильно, модно, молодежно"
   ]
  },
  {
   "cell_type": "code",
   "execution_count": 29,
   "metadata": {},
   "outputs": [
    {
     "name": "stdout",
     "output_type": "stream",
     "text": [
      "Firstly, u say hello, secondly u say goodbye\n"
     ]
    }
   ],
   "source": [
    "a = 'hello'\n",
    "b = \"goodbye\"\n",
    "c = 10\n",
    "c = f\"Firstly, u say {a}, secondly u say {b}\"\n",
    "print(c)"
   ]
  },
  {
   "cell_type": "markdown",
   "metadata": {},
   "source": [
    "## Code comments"
   ]
  },
  {
   "cell_type": "code",
   "execution_count": 35,
   "metadata": {},
   "outputs": [
    {
     "name": "stdout",
     "output_type": "stream",
     "text": [
      "Firstly, u say hello, secondly u say goodbye\n",
      "150\n"
     ]
    }
   ],
   "source": [
    "a = 150 #однострочный коммент\n",
    "#еще одна строка комментария для тренировки\n",
    "print(c)\n",
    "\"\"\"comment\n",
    "comment\n",
    "comment\n",
    "comment4\n",
    "многострочный комментарий\"\"\"\n",
    "print(a)"
   ]
  }
 ],
 "metadata": {
  "interpreter": {
   "hash": "19cfb84465dd09c69bd2989eeed40812451e21cfc88d7f0aa1988249dccd3c6a"
  },
  "kernelspec": {
   "display_name": "Python 3.10.2 64-bit",
   "language": "python",
   "name": "python3"
  },
  "language_info": {
   "codemirror_mode": {
    "name": "ipython",
    "version": 3
   },
   "file_extension": ".py",
   "mimetype": "text/x-python",
   "name": "python",
   "nbconvert_exporter": "python",
   "pygments_lexer": "ipython3",
   "version": "3.10.2"
  },
  "orig_nbformat": 4
 },
 "nbformat": 4,
 "nbformat_minor": 2
}
