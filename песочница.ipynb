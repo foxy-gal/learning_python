{
 "cells": [
  {
   "cell_type": "markdown",
   "metadata": {},
   "source": [
    "песочница"
   ]
  },
  {
   "cell_type": "code",
   "execution_count": 2,
   "metadata": {},
   "outputs": [
    {
     "name": "stdout",
     "output_type": "stream",
     "text": [
      "tutorial python for beginner lever\n"
     ]
    }
   ],
   "source": [
    "a = \"tutorial\"\n",
    "b = 'python'\n",
    "c = 'for beginner lever'\n",
    "print(a, b, c)"
   ]
  },
  {
   "cell_type": "code",
   "execution_count": 3,
   "metadata": {},
   "outputs": [
    {
     "name": "stdout",
     "output_type": "stream",
     "text": [
      "tutorial\n",
      "python\n",
      "for beginner lever\n"
     ]
    }
   ],
   "source": [
    "print(a)\n",
    "print(b)\n",
    "print(c)"
   ]
  },
  {
   "cell_type": "code",
   "execution_count": 14,
   "metadata": {},
   "outputs": [
    {
     "name": "stdout",
     "output_type": "stream",
     "text": [
      "tutorialpython for beginner leverhi"
     ]
    }
   ],
   "source": [
    "print(a, end=\"\")\n",
    "print(b, end=\" \")\n",
    "print(c, end=\"hi\")"
   ]
  },
  {
   "cell_type": "code",
   "execution_count": 15,
   "metadata": {},
   "outputs": [
    {
     "name": "stdout",
     "output_type": "stream",
     "text": [
      "tutorial-python-for beginner lever\n"
     ]
    }
   ],
   "source": [
    "print(a,b,c, sep=\"-\")"
   ]
  },
  {
   "cell_type": "markdown",
   "metadata": {},
   "source": [
    "### list, список\n",
    "(аналог+- массива) - структура данных, которая хранит последовательность объектов, к которому можно обратиться по индексу\n",
    "изменяемая коллекция, произвольных типов"
   ]
  },
  {
   "cell_type": "code",
   "execution_count": 17,
   "metadata": {},
   "outputs": [
    {
     "name": "stdout",
     "output_type": "stream",
     "text": [
      "['apple', 13, True, 0.5]\n"
     ]
    }
   ],
   "source": [
    "test_list=['apple', 13, True, 0.5]\n",
    "print(test_list)"
   ]
  },
  {
   "cell_type": "code",
   "execution_count": 23,
   "metadata": {},
   "outputs": [
    {
     "name": "stdout",
     "output_type": "stream",
     "text": [
      "['January', 'Febuary', 'March', 'April']\n"
     ]
    }
   ],
   "source": [
    "months = ['January', 'Febuary', 'March', 'April']\n",
    "print(months)"
   ]
  },
  {
   "cell_type": "code",
   "execution_count": 27,
   "metadata": {},
   "outputs": [
    {
     "ename": "TypeError",
     "evalue": "'list' object is not callable",
     "output_type": "error",
     "traceback": [
      "\u001b[1;31m---------------------------------------------------------------------------\u001b[0m",
      "\u001b[1;31mTypeError\u001b[0m                                 Traceback (most recent call last)",
      "\u001b[1;32mc:\\Users\\a.bezhenar\\Desktop\\py\\песочница.ipynb Ячейка 9\u001b[0m in \u001b[0;36m<cell line: 1>\u001b[1;34m()\u001b[0m\n\u001b[1;32m----> <a href='vscode-notebook-cell:/c%3A/Users/a.bezhenar/Desktop/py/%D0%BF%D0%B5%D1%81%D0%BE%D1%87%D0%BD%D0%B8%D1%86%D0%B0.ipynb#X14sZmlsZQ%3D%3D?line=0'>1</a>\u001b[0m \u001b[39mlist\u001b[39;49m() \u001b[39m#создает пустой список\u001b[39;00m\n\u001b[0;32m      <a href='vscode-notebook-cell:/c%3A/Users/a.bezhenar/Desktop/py/%D0%BF%D0%B5%D1%81%D0%BE%D1%87%D0%BD%D0%B8%D1%86%D0%B0.ipynb#X14sZmlsZQ%3D%3D?line=1'>2</a>\u001b[0m spell_hello \u001b[39m=\u001b[39m \u001b[39mlist\u001b[39m(\u001b[39m'\u001b[39m\u001b[39mword\u001b[39m\u001b[39m'\u001b[39m)\n",
      "\u001b[1;31mTypeError\u001b[0m: 'list' object is not callable"
     ]
    }
   ],
   "source": [
    "list() #создает пустой список\n",
    "spell_hello = list('word') #создает список ['w', 'o', 'r', 'd']. тут почему-то воспроизводит ошибку"
   ]
  }
 ],
 "metadata": {
  "kernelspec": {
   "display_name": "Python 3.9.12 ('base')",
   "language": "python",
   "name": "python3"
  },
  "language_info": {
   "codemirror_mode": {
    "name": "ipython",
    "version": 3
   },
   "file_extension": ".py",
   "mimetype": "text/x-python",
   "name": "python",
   "nbconvert_exporter": "python",
   "pygments_lexer": "ipython3",
   "version": "3.9.12"
  },
  "orig_nbformat": 4,
  "vscode": {
   "interpreter": {
    "hash": "d011a365699c2046b127a6871c0c66a56cbcc5b33d4bb7bedc292851ac7bd809"
   }
  }
 },
 "nbformat": 4,
 "nbformat_minor": 2
}
